{
 "cells": [
  {
   "cell_type": "code",
   "execution_count": 1,
   "metadata": {},
   "outputs": [],
   "source": [
    "from pandas import*\n",
    "import pandas as pd\n",
    "from scipy.special import gamma, factorial\n",
    "import numpy as np\n",
    "import numpy.random as npr\n",
    "import matplotlib.pyplot as plt\n",
    "from scipy import stats\n",
    "from scipy.stats import norm\n",
    "import math as math\n",
    "import cqfpyscript as pys #cqfpyscript contains the functions used in the project"
   ]
  },
  {
   "cell_type": "code",
   "execution_count": 2,
   "metadata": {},
   "outputs": [],
   "source": [
    "#Python Code:Bootstrapping implied survival probabilities from CDS input data\n",
    "#INPUT DATA: Risk-free rate,r for discount factor and a vector of CDS at different maturities.\n",
    "#This function is limited to a vector of CDS up to exactly 5yrs maturities"
   ]
  },
  {
   "cell_type": "code",
   "execution_count": 3,
   "metadata": {},
   "outputs": [],
   "source": [
    "#CDS input data. First index in array is intentionally set to Zero(0).\n",
    "CDS_percent_change=0.0\n",
    "CDS_arr = (np.array([0,43,50.5,58,71,84]))/10000 # CDS CS \n",
    "# Risk-free rate,r @ 2%\n",
    "# call the implied survival probabilities function(ISP)\n",
    "pys.ISP(0.02,CDS_arr) #call the cqfpyscript script\n",
    "ISP_array1= DataFrame(pys.ISP(0.02,CDS_arr),columns= list('123456'))"
   ]
  },
  {
   "cell_type": "code",
   "execution_count": 4,
   "metadata": {},
   "outputs": [],
   "source": [
    "CDS_arr = (np.array([0,96,109.5,123,137,151]))/10000 # CDS DB \n",
    "# Risk-free rate,r @ 2%\n",
    "# call the implied survival probabilities function(ISP)\n",
    "pys.ISP(0.02,CDS_arr)\n",
    "ISP_array2= DataFrame(pys.ISP(0.02,CDS_arr),columns= list('123456'))"
   ]
  },
  {
   "cell_type": "code",
   "execution_count": 5,
   "metadata": {},
   "outputs": [],
   "source": [
    "CDS_arr = (np.array([0,34,33.5,33,40.5,48]))/10000 # CDS JPM\n",
    "# Risk-free rate,r @ 2%\n",
    "# call the implied survival probabilities function(ISP)\n",
    "pys.ISP(0.02,CDS_arr)\n",
    "ISP_array3= DataFrame(pys.ISP(0.02,CDS_arr),columns= list('123456'))"
   ]
  },
  {
   "cell_type": "code",
   "execution_count": 6,
   "metadata": {},
   "outputs": [],
   "source": [
    "CDS_arr = (np.array([0,53,64.5,76,92.5,109]))/10000 # CDS BCS\n",
    "# Risk-free rate,r @ 2%\n",
    "# call the implied survival probabilities function(ISP)\n",
    "pys.ISP(0.02,CDS_arr)\n",
    "ISP_array4= DataFrame(pys.ISP(0.02,CDS_arr),columns= list('123456'))"
   ]
  },
  {
   "cell_type": "code",
   "execution_count": 7,
   "metadata": {},
   "outputs": [],
   "source": [
    "CDS_arr = (np.array([0,34,36,38,46,54]))*(1+CDS_percent_change)/10000 # CDS WFC\n",
    "#CDS_arr = (np.array([0,34,36,38,46,54]))/10000 # CDS WFC # Use this line if CDS_percent change is not being considered.\n",
    "# Risk-free rate,r @ 2%\n",
    "# call the implied survival probabilities function(ISP)\n",
    "pys.ISP(0.02,CDS_arr)\n",
    "ISP_array5= DataFrame(pys.ISP(0.02,CDS_arr),columns= list('123456'))"
   ]
  },
  {
   "cell_type": "code",
   "execution_count": 8,
   "metadata": {},
   "outputs": [],
   "source": [
    "ISP_array=pd.DataFrame()\n",
    "ISP_array=ISP_array.append(ISP_array1)"
   ]
  },
  {
   "cell_type": "code",
   "execution_count": 9,
   "metadata": {},
   "outputs": [],
   "source": [
    "ISP_array=ISP_array.append(ISP_array2)"
   ]
  },
  {
   "cell_type": "code",
   "execution_count": 10,
   "metadata": {},
   "outputs": [],
   "source": [
    "ISP_array=ISP_array.append(ISP_array3)"
   ]
  },
  {
   "cell_type": "code",
   "execution_count": 11,
   "metadata": {},
   "outputs": [],
   "source": [
    "ISP_array=ISP_array.append(ISP_array4)"
   ]
  },
  {
   "cell_type": "code",
   "execution_count": 12,
   "metadata": {},
   "outputs": [],
   "source": [
    "ISP_array=ISP_array.append(ISP_array5)"
   ]
  },
  {
   "cell_type": "code",
   "execution_count": 13,
   "metadata": {},
   "outputs": [],
   "source": [
    "ISP_arr=np.transpose(ISP_array)"
   ]
  },
  {
   "cell_type": "code",
   "execution_count": 14,
   "metadata": {},
   "outputs": [],
   "source": [
    "df3 = DataFrame(ISP_arr)"
   ]
  },
  {
   "cell_type": "code",
   "execution_count": 15,
   "metadata": {},
   "outputs": [],
   "source": [
    "df3.columns = ['a', 'b','c','d','e']"
   ]
  },
  {
   "cell_type": "code",
   "execution_count": 16,
   "metadata": {},
   "outputs": [],
   "source": [
    "#Convert implied survival probabilities to hazard rates not-cumulative\n",
    "df3['a1'] = -np.log(df3.a / df3.a.shift(1))\n",
    "df3['b1'] = -np.log(df3.b / df3.b.shift(1))\n",
    "df3['c1'] = -np.log(df3.c / df3.c.shift(1))\n",
    "df3['d1'] = -np.log(df3.d / df3.d.shift(1))\n",
    "df3['e1'] = -np.log(df3.e / df3.e.shift(1))\n",
    "df3=df3[['a1', 'b1', 'c1', 'd1', 'e1']].copy()   #hazard rates not-cumulative"
   ]
  },
  {
   "cell_type": "code",
   "execution_count": 17,
   "metadata": {},
   "outputs": [],
   "source": [
    "df3 = df3.iloc[1:]    #non-cumulative hazard rates\n",
    "df3.index = range(5)"
   ]
  },
  {
   "cell_type": "code",
   "execution_count": 18,
   "metadata": {},
   "outputs": [],
   "source": [
    "#df3"
   ]
  },
  {
   "cell_type": "code",
   "execution_count": 19,
   "metadata": {},
   "outputs": [],
   "source": [
    "df4=np.cumsum(df3,axis=0)\n",
    "df4.index = range(5)  #cumulative hazard rates"
   ]
  },
  {
   "cell_type": "code",
   "execution_count": 20,
   "metadata": {},
   "outputs": [],
   "source": [
    "#df4"
   ]
  },
  {
   "cell_type": "code",
   "execution_count": 21,
   "metadata": {},
   "outputs": [],
   "source": [
    "df5 = DataFrame(np.transpose(ISP_array)) #Implied survival probabilities\n",
    "df5.columns=list('12345')"
   ]
  },
  {
   "cell_type": "code",
   "execution_count": 22,
   "metadata": {},
   "outputs": [],
   "source": [
    "#Results from Matlab Kdensity estimation Computation\n",
    "#df=pd.read_csv('/home/pojotorshemi/Equity_Returns_1.csv') #google cloud platform storage\n",
    "# df=pd.read_csv('/home/ajshemi/Equity_Returns_1.csv') #google cloud platform storage\n",
    "#df=pd.read_csv('C:/Users/ashemi/Desktop/quants/CQF JAN 2018/FINAL PROJECT/Equity_Returns_1.csv') #use when data is stored local computer drive\n",
    "df=pd.read_csv('/Users/ajshemi/interview_prep_python_notebook/Equity_Returns_1.csv')\n"
   ]
  },
  {
   "cell_type": "code",
   "execution_count": 23,
   "metadata": {},
   "outputs": [
    {
     "data": {
      "text/plain": [
       "(           CS        DB       JPM       BCS       WFC\n",
       " CS   1.000000  0.724597  0.531772  0.650871  0.516799\n",
       " DB   0.724597  1.000000  0.494583  0.676768  0.496337\n",
       " JPM  0.531772  0.494583  1.000000  0.530742  0.774468\n",
       " BCS  0.650871  0.676768  0.530742  1.000000  0.502998\n",
       " WFC  0.516799  0.496337  0.774468  0.502998  1.000000,\n",
       "            CS        DB       JPM       BCS       WFC\n",
       " CS   1.000000  0.538693  0.378247  0.477084  0.364287\n",
       " DB   0.538693  1.000000  0.343629  0.493844  0.350817\n",
       " JPM  0.378247  0.343629  1.000000  0.374742  0.578913\n",
       " BCS  0.477084  0.493844  0.374742  1.000000  0.350090\n",
       " WFC  0.364287  0.350817  0.578913  0.350090  1.000000,\n",
       "            CS        DB       JPM       BCS       WFC\n",
       " CS   1.000000  0.724047  0.531085  0.650859  0.517040\n",
       " DB   0.724047  1.000000  0.494968  0.676620  0.496462\n",
       " JPM  0.531085  0.494968  1.000000  0.531157  0.774134\n",
       " BCS  0.650859  0.676620  0.531157  1.000000  0.502653\n",
       " WFC  0.517040  0.496462  0.774134  0.502653  1.000000)"
      ]
     },
     "execution_count": 23,
     "metadata": {},
     "output_type": "execute_result"
    }
   ],
   "source": [
    "df.corr(),df.corr('kendall'),df.corr('spearman')"
   ]
  },
  {
   "cell_type": "code",
   "execution_count": null,
   "metadata": {},
   "outputs": [],
   "source": [
    "#function to linearize kendall and spearman correlation matrix\n",
    "pys.lin_kendall(df),pys.lin_spearman(df)"
   ]
  },
  {
   "cell_type": "code",
   "execution_count": 25,
   "metadata": {},
   "outputs": [],
   "source": [
    "#Results from Matlab Kdensity estimation Computation. Convert U To Z\n",
    "df1=norm.ppf(df)"
   ]
  },
  {
   "cell_type": "code",
   "execution_count": 26,
   "metadata": {},
   "outputs": [],
   "source": [
    "df2 = pd.DataFrame(df1,columns=['CS', 'DB', 'JPM', 'BCS','WFC'])"
   ]
  },
  {
   "cell_type": "code",
   "execution_count": null,
   "metadata": {},
   "outputs": [],
   "source": [
    "df2.corr(),df2.corr('kendall'),df2.corr('spearman') #correlation matrix"
   ]
  },
  {
   "cell_type": "code",
   "execution_count": null,
   "metadata": {},
   "outputs": [],
   "source": [
    "pys.lin_kendall(df2),pys.lin_spearman(df2) #linearized correlation matrix"
   ]
  },
  {
   "cell_type": "code",
   "execution_count": 29,
   "metadata": {},
   "outputs": [
    {
     "data": {
      "text/html": [
       "<div>\n",
       "<style scoped>\n",
       "    .dataframe tbody tr th:only-of-type {\n",
       "        vertical-align: middle;\n",
       "    }\n",
       "\n",
       "    .dataframe tbody tr th {\n",
       "        vertical-align: top;\n",
       "    }\n",
       "\n",
       "    .dataframe thead th {\n",
       "        text-align: right;\n",
       "    }\n",
       "</style>\n",
       "<table border=\"1\" class=\"dataframe\">\n",
       "  <thead>\n",
       "    <tr style=\"text-align: right;\">\n",
       "      <th></th>\n",
       "      <th>1</th>\n",
       "      <th>2</th>\n",
       "      <th>3</th>\n",
       "      <th>4</th>\n",
       "      <th>5</th>\n",
       "    </tr>\n",
       "  </thead>\n",
       "  <tbody>\n",
       "    <tr>\n",
       "      <th>0</th>\n",
       "      <td>1.000000</td>\n",
       "      <td>0.744447</td>\n",
       "      <td>0.572762</td>\n",
       "      <td>0.671904</td>\n",
       "      <td>0.565589</td>\n",
       "    </tr>\n",
       "    <tr>\n",
       "      <th>1</th>\n",
       "      <td>0.744447</td>\n",
       "      <td>1.000000</td>\n",
       "      <td>0.529802</td>\n",
       "      <td>0.687064</td>\n",
       "      <td>0.544029</td>\n",
       "    </tr>\n",
       "    <tr>\n",
       "      <th>2</th>\n",
       "      <td>0.572762</td>\n",
       "      <td>0.529802</td>\n",
       "      <td>1.000000</td>\n",
       "      <td>0.544732</td>\n",
       "      <td>0.779608</td>\n",
       "    </tr>\n",
       "    <tr>\n",
       "      <th>3</th>\n",
       "      <td>0.671904</td>\n",
       "      <td>0.687064</td>\n",
       "      <td>0.544732</td>\n",
       "      <td>1.000000</td>\n",
       "      <td>0.523402</td>\n",
       "    </tr>\n",
       "    <tr>\n",
       "      <th>4</th>\n",
       "      <td>0.565589</td>\n",
       "      <td>0.544029</td>\n",
       "      <td>0.779608</td>\n",
       "      <td>0.523402</td>\n",
       "      <td>1.000000</td>\n",
       "    </tr>\n",
       "  </tbody>\n",
       "</table>\n",
       "</div>"
      ],
      "text/plain": [
       "          1         2         3         4         5\n",
       "0  1.000000  0.744447  0.572762  0.671904  0.565589\n",
       "1  0.744447  1.000000  0.529802  0.687064  0.544029\n",
       "2  0.572762  0.529802  1.000000  0.544732  0.779608\n",
       "3  0.671904  0.687064  0.544732  1.000000  0.523402\n",
       "4  0.565589  0.544029  0.779608  0.523402  1.000000"
      ]
     },
     "execution_count": 29,
     "metadata": {},
     "output_type": "execute_result"
    }
   ],
   "source": [
    "#This function can adjust(+/-) the correlation matrix by a certain percent(p).#Used for correlation sensitivity test.#Fisher transform\n",
    "#Gaussian Copula. linear correlation on Z. #Fisher transform function\n",
    "G_corr=pys.p_sensi(0,df2.corr())\n",
    "G_corr"
   ]
  },
  {
   "cell_type": "code",
   "execution_count": null,
   "metadata": {},
   "outputs": [],
   "source": [
    "#This function can adjust(+/-) the correlation matrix by a certain percent(p).#Used for correlation sensitivity test.#Fisher transform\n",
    "#T Copula. linearized spearman ranked correlation on U  #Fisher transform function\n",
    "T_G_Corr=pys.p_sensi(0,pys.lin_spearman(df))\n",
    "T_G_Corr"
   ]
  },
  {
   "cell_type": "code",
   "execution_count": null,
   "metadata": {},
   "outputs": [],
   "source": [
    "#Gaussian Copula. Cholesky decomposition\n",
    "G_corr=np.linalg.cholesky(G_corr)\n",
    "\n",
    "#T Copula. Cholesky decomposition\n",
    "T_G_corr=np.linalg.cholesky(T_G_Corr)\n",
    "\n",
    "G_corr,T_G_corr"
   ]
  },
  {
   "cell_type": "code",
   "execution_count": 32,
   "metadata": {},
   "outputs": [
    {
     "data": {
      "text/plain": [
       "Text(0, 0.5, 'Log-likelihood')"
      ]
     },
     "execution_count": 32,
     "metadata": {},
     "output_type": "execute_result"
    },
    {
     "data": {
      "image/png": "[encoded data removed]",
      "text/plain": [
       "<Figure size 432x288 with 1 Axes>"
      ]
     },
     "metadata": {
      "needs_background": "light"
     },
     "output_type": "display_data"
    }
   ],
   "source": [
    "#list of small functions together used to calculate the contribution to copula density with input Ut(1x5) values as list for five reference names observes at time t.\n",
    "#function to call t_c_density\n",
    "#call t_copula density function to compute degree of freedom parameter (d.f.)\n",
    "n=5  # # of dimensional\n",
    "b_arr=df2.corr()  #correlation matrix\n",
    "\n",
    "sum_copula_dens_list=[]\n",
    "for i in range(1,50):\n",
    "    sum_copula_dens=0\n",
    "    for k in range(260):\n",
    "        u_arr=df.loc[k:k].values.flatten()  # input Ut(1x5) values at time t, each row\n",
    "        u_arr=u_arr.tolist()\n",
    "        sum_copula_dens=sum_copula_dens+np.log(pys.t_c_density(i,u_arr,b_arr,n))\n",
    "    sum_copula_dens_list.append(sum_copula_dens)\n",
    "x=range(1,50)\n",
    "y=sum_copula_dens_list\n",
    "plt.plot(x,y);\n",
    "\n",
    "plt.xlabel(\"degrees of freedom $v$\", fontsize=12)\n",
    "plt.ylabel(\"Log-likelihood\", fontsize=12)\n",
    "\n"
   ]
  },
  {
   "cell_type": "code",
   "execution_count": 33,
   "metadata": {},
   "outputs": [],
   "source": [
    "#T Copula\n",
    "# Chi-squared random variable computation\n",
    "nu=10\n",
    "Chi_square_RV=pd.DataFrame(np.sqrt(np.random.chisquare(nu,100000)/nu),columns=list('1'))\n",
    "#Chi_square_RV.head()"
   ]
  },
  {
   "cell_type": "code",
   "execution_count": 34,
   "metadata": {},
   "outputs": [],
   "source": [
    "#EQT_RV = pd.DataFrame(npr.standard_normal(500000).reshape(100000,5), columns=list('12345'))  #if using python std. normal variables\n",
    "#EQT_RV_input=pd.read_csv('C:/Users/ashemi/Desktop/quants/CQF JAN 2018/FINAL PROJECT/Halton_seq.csv') #local computer drive\n",
    "#EQT_RV_input=pd.read_csv('C:/Users/ashemi/Desktop/quants/CQF JAN 2018/FINAL PROJECT/Sobol_seq.csv') #local computer drive\n",
    "#EQT_RV_input=pd.read_csv('/home/pojotorshemi/Halton_seq.csv') #google cloud platform storage Halton_sequence\n",
    "#EQT_RV_input=pd.read_csv('/home/pojotorshemi/Sobol_seq.csv') #google cloud platform storage Sobol_sequence"
   ]
  },
  {
   "cell_type": "code",
   "execution_count": 35,
   "metadata": {},
   "outputs": [],
   "source": [
    "#Gaussian Copula\n",
    "#5-dimensional vector of independent standard normal variables (If using Halton or Sobol Sequence)\n",
    "#EQT_RV_H=norm.ppf(EQT_RV_input)\n",
    "#EQT_RV = pd.DataFrame(EQT_RV_H, columns=list('12345'))"
   ]
  },
  {
   "cell_type": "code",
   "execution_count": 36,
   "metadata": {},
   "outputs": [],
   "source": [
    "#Gaussian Copula\n",
    "#5-dimensional vector of independent standard normal variables (If using python std. normal variables )\n",
    "EQT_RV = pd.DataFrame(npr.standard_normal(500000).reshape(100000,5), columns=list('12345'))  #if using python std. normal variables"
   ]
  },
  {
   "cell_type": "code",
   "execution_count": 37,
   "metadata": {},
   "outputs": [],
   "source": [
    "#T Copula\n",
    "#5-dimensional vector of independent standard normal variables\n",
    "T_EQT_RV=[]\n",
    "for k in range(5):\n",
    "    for i in range(len(EQT_RV)):\n",
    "        T_EQT_RV.append(EQT_RV.iloc[i][k]/Chi_square_RV.iloc[i])\n",
    "T_EQT_RV=np.asarray(T_EQT_RV)\n",
    "T_EQT_RV=DataFrame(np.reshape(np.ravel(T_EQT_RV),(100000,5),order='F'),columns=list('12345'))"
   ]
  },
  {
   "cell_type": "code",
   "execution_count": 38,
   "metadata": {},
   "outputs": [
    {
     "data": {
      "text/plain": [
       "(          1         2         3         4         5\n",
       " 0  0.104696 -0.714392  0.359214  0.245110 -0.927395\n",
       " 1  0.188377 -0.373927 -0.230135  0.140028 -1.246483\n",
       " 2  0.002594  1.319961  0.181942 -0.344803  0.218117\n",
       " 3 -0.285110  0.978077 -0.992788  1.534085  0.471300\n",
       " 4  1.377898 -0.522126 -0.841861  0.070653  1.400651,\n",
       "           1         2         3         4         5\n",
       " 0  0.149849 -1.022496  0.514136  0.350822 -1.327362\n",
       " 1  0.286314 -0.568332 -0.349782  0.212829 -1.894531\n",
       " 2  0.002441  1.242080  0.171207 -0.324459  0.205248\n",
       " 3 -0.238312  0.817532 -0.829829  1.282275  0.393939\n",
       " 4  1.575947 -0.597173 -0.962865  0.080808  1.601971)"
      ]
     },
     "execution_count": 38,
     "metadata": {},
     "output_type": "execute_result"
    }
   ],
   "source": [
    "#5-dimensional vector of independent standard normal variables\n",
    "EQT_RV.head(),T_EQT_RV.head()"
   ]
  },
  {
   "cell_type": "code",
   "execution_count": 39,
   "metadata": {},
   "outputs": [],
   "source": [
    "#Python DataFrame.5-dimensional vector of independent standard normal variables\n",
    "G_corr= DataFrame(G_corr,columns=list('12345'))\n",
    "#G_corr\n",
    "T_G_corr= DataFrame(T_G_corr,columns=list('12345'))\n",
    "#T_G_corr"
   ]
  },
  {
   "cell_type": "code",
   "execution_count": 40,
   "metadata": {},
   "outputs": [],
   "source": [
    "#Adjustment of \"correlation matrix\" before imposing correlation.i.e 5X5 to 4X5\n",
    "#Gaussian Copula. \n",
    "G_corr_new = G_corr.iloc[1:]\n",
    "\n",
    "#T Copula.\n",
    "T_G_corr_new=T_G_corr.iloc[1:]\n",
    "\n",
    "#G_corr_new, T_G_corr_new"
   ]
  },
  {
   "cell_type": "code",
   "execution_count": 41,
   "metadata": {},
   "outputs": [],
   "source": [
    "G_corr_new_transpose=np.transpose(G_corr_new)\n",
    "T_G_corr_new_transpose=np.transpose(T_G_corr_new)"
   ]
  },
  {
   "cell_type": "code",
   "execution_count": 42,
   "metadata": {},
   "outputs": [],
   "source": [
    "#Gaussian Copula. Impose correlation (100000 X 5 * 5 X 4)\n",
    "# EQT_Corr_RV=np.matmul(EQT_RV,np.transpose(G_corr_new))\n",
    "EQT_Corr_RV=np.matmul(EQT_RV.values,G_corr_new_transpose.values)\n",
    "\n",
    "#T Copula. Impose correlation (10000 X 5 * 5 X 4)\n",
    "# T_EQT_Corr_RV=np.matmul(T_EQT_RV,np.transpose(T_G_corr_new))\n",
    "T_EQT_Corr_RV=np.matmul(T_EQT_RV.values,T_G_corr_new_transpose.values)"
   ]
  },
  {
   "cell_type": "code",
   "execution_count": null,
   "metadata": {},
   "outputs": [],
   "source": [
    "#Python DataFrame containing correlated random variables\n",
    "\n",
    "#Gaussian Copula. \n",
    "EQT_Corr_RV = pd.DataFrame(EQT_Corr_RV, columns=list('2345'))\n",
    "\n",
    "#T Copula.\n",
    "T_EQT_Corr_RV = pd.DataFrame(T_EQT_Corr_RV, columns=list('2345'))\n",
    "\n",
    "EQT_Corr_RV.head(),T_EQT_Corr_RV.head()"
   ]
  },
  {
   "cell_type": "code",
   "execution_count": null,
   "metadata": {
    "scrolled": true
   },
   "outputs": [],
   "source": [
    "#Insert the first column back into the vector of correlated random variables\n",
    "#Gaussian Copula. \n",
    "EQT_Corr_RV.insert(0,'1',EQT_RV['1'])\n",
    "\n",
    "#T Copula.\n",
    "T_EQT_Corr_RV.insert(0,'1',T_EQT_RV['1'])\n",
    "\n",
    "EQT_Corr_RV.head(),T_EQT_Corr_RV.head()"
   ]
  },
  {
   "cell_type": "code",
   "execution_count": 45,
   "metadata": {},
   "outputs": [],
   "source": [
    "#Python DataFrame containing correlated uniform vector\n",
    "\n",
    "#Gaussian Copula. Use Normal CDF to map to a correlated uniform vector\n",
    "EQT_Corr_SNRV=DataFrame(norm.cdf(EQT_Corr_RV),columns=list('12345'))\n",
    "\n",
    "#T Copula. Use t CDF to map to a correlated uniform vector #right side t\n",
    "T_EQT_Corr_SNRV=DataFrame((1-stats.t.cdf(T_EQT_Corr_RV,nu)),columns=list('12345'))"
   ]
  },
  {
   "cell_type": "code",
   "execution_count": 46,
   "metadata": {},
   "outputs": [
    {
     "data": {
      "text/plain": [
       "(          1         2         3         4         5\n",
       " 0  0.541691  0.344929  0.594242  0.534546  0.331462\n",
       " 1  0.574709  0.456432  0.446200  0.532857  0.202292\n",
       " 2  0.501035  0.811448  0.637723  0.566079  0.679044\n",
       " 3  0.387780  0.670319  0.208693  0.833147  0.424979\n",
       " 4  0.915883  0.750847  0.512237  0.759643  0.860641,\n",
       "           1         2         3         4         5\n",
       " 0  0.441932  0.711525  0.369424  0.455534  0.716638\n",
       " 1  0.390241  0.565884  0.584715  0.458691  0.884341\n",
       " 2  0.499050  0.211077  0.371179  0.429334  0.337582\n",
       " 3  0.591774  0.358353  0.744891  0.222588  0.572568\n",
       " 4  0.073058  0.230984  0.507535  0.229153  0.138304)"
      ]
     },
     "execution_count": 46,
     "metadata": {},
     "output_type": "execute_result"
    }
   ],
   "source": [
    "EQT_Corr_SNRV.head(),T_EQT_Corr_SNRV.head()"
   ]
  },
  {
   "cell_type": "code",
   "execution_count": 47,
   "metadata": {},
   "outputs": [],
   "source": [
    "#absolute values of \\log(1-u)\\ to be compared to cumulative hazard rates\n",
    "Pre_def_time=DataFrame(abs(np.log(1-EQT_Corr_SNRV)),columns=list('12345'))\n",
    "T_cop_Pre_def_time=DataFrame(abs(np.log(1-T_EQT_Corr_SNRV)),columns=list('12345'))"
   ]
  },
  {
   "cell_type": "code",
   "execution_count": null,
   "metadata": {
    "scrolled": true
   },
   "outputs": [],
   "source": [
    "Pre_def_time.head(),T_cop_Pre_def_time.head()"
   ]
  },
  {
   "cell_type": "code",
   "execution_count": 49,
   "metadata": {},
   "outputs": [],
   "source": [
    "#Exalt default times computation.#Code \"workhorse\"\n",
    "#Gaussian Copula.\n",
    "A1=pys.exalt_default_times(5,Pre_def_time,df3,df4,df5,EQT_Corr_SNRV)"
   ]
  },
  {
   "cell_type": "code",
   "execution_count": 50,
   "metadata": {},
   "outputs": [],
   "source": [
    "#Exalt default times computation.#Code \"workhorse\"\n",
    "#T Copula\n",
    "T_A1=pys.exalt_default_times(5,T_cop_Pre_def_time,df3,df4,df5,T_EQT_Corr_SNRV)"
   ]
  },
  {
   "cell_type": "code",
   "execution_count": 51,
   "metadata": {
    "scrolled": true
   },
   "outputs": [],
   "source": [
    "A1= np.reshape(A1, (5,100000)).T\n",
    "T_A1= np.reshape(T_A1, (5,100000)).T"
   ]
  },
  {
   "cell_type": "code",
   "execution_count": 52,
   "metadata": {
    "scrolled": true
   },
   "outputs": [],
   "source": [
    "PL1=DataFrame(A1,columns=list('12345'))\n",
    "T_PL1=DataFrame(T_A1,columns=list('12345'))"
   ]
  },
  {
   "cell_type": "code",
   "execution_count": 53,
   "metadata": {},
   "outputs": [],
   "source": [
    "PL2 = PL1.copy(deep=True) #create dummy duplicate dataframe like df_1\n",
    "T_PL2 =T_PL1.copy(deep=True)\n",
    "\n",
    "PL2[:] = 1000 #set dummpy dataframe to 1000\n",
    "T_PL2[:] = 1000 \n",
    "\n",
    "PL3=PL1.where(PL1 != 0, PL2) # where PL1 is zero(0) replace with a 1000\n",
    "T_PL3=T_PL1.where(T_PL1 != 0, T_PL2)\n",
    "\n",
    "PL3 =PL3.apply(np.sort,axis=1) #then sort PL3 column-wise\n",
    "T_PL3 =T_PL3.apply(np.sort,axis=1)\n",
    "\n",
    "PL3=PL3.tolist()  #get a list from numpy array?\n",
    "T_PL3=T_PL3.tolist()\n",
    "PL3=DataFrame(PL3,columns=list('12345'))\n",
    "T_PL3=DataFrame(T_PL3,columns=list('12345'))\n",
    "\n",
    "PL3[PL3 == 1000] = 0 #replace 1000 entries with zero(0) entries\n",
    "T_PL3[T_PL3 == 1000] = 0 "
   ]
  },
  {
   "cell_type": "code",
   "execution_count": 54,
   "metadata": {},
   "outputs": [],
   "source": [
    "#discount factor\n",
    "Df_1 =[]\n",
    "T=5\n",
    "for i in range(T+1):\n",
    "    Df_1.append(np.exp(-i*0.02))\n",
    "Df=Df_1*np.ones((T+1))\n",
    "DfT=np.transpose(Df)"
   ]
  },
  {
   "cell_type": "code",
   "execution_count": 55,
   "metadata": {},
   "outputs": [],
   "source": [
    "DfT=DataFrame(DfT,columns=list('1')) # column of discount factor\n",
    "#DfT"
   ]
  },
  {
   "cell_type": "code",
   "execution_count": null,
   "metadata": {},
   "outputs": [],
   "source": [
    "PL3.head(20) ,T_PL3.head(20)"
   ]
  },
  {
   "cell_type": "code",
   "execution_count": 57,
   "metadata": {},
   "outputs": [],
   "source": [
    "#SAMPLING FROM GaussianCOPULA"
   ]
  },
  {
   "cell_type": "code",
   "execution_count": 58,
   "metadata": {},
   "outputs": [],
   "source": [
    "#Premium leg computation\n",
    "r=0.02\n",
    "PL4=pys.prem_leg(PL3,r,DfT)"
   ]
  },
  {
   "cell_type": "code",
   "execution_count": 59,
   "metadata": {},
   "outputs": [],
   "source": [
    "#Default leg (DLG) computation\n",
    "DLG = PL3.copy(deep=True)\n",
    "RR=0.4\n",
    "r=0.02\n",
    "for i in range(len(PL3)):\n",
    "    #for j in range(5):\n",
    "            \n",
    "        if PL3.iloc[i][0]== 0:\n",
    "            DLG.iloc[i][0]=0\n",
    "        else:\n",
    "            DLG.iloc[i][0]=(PL3.iloc[i][0]/PL3.iloc[i][0])*(1-RR)*(np.exp(-math.ceil(PL3.iloc[i][0])*r)*1/5)\n",
    "            \n",
    "        if PL3.iloc[i][1]== 0:\n",
    "            DLG.iloc[i][1]=0\n",
    "        else:\n",
    "            DLG.iloc[i][1]=(PL3.iloc[i][1]/PL3.iloc[i][1])*(1-RR)*(np.exp(-math.ceil(PL3.iloc[i][1])*r)*1/5)\n",
    "            \n",
    "        if PL3.iloc[i][2]== 0:\n",
    "            DLG.iloc[i][2]=0\n",
    "        else:\n",
    "            DLG.iloc[i][2]=(PL3.iloc[i][2]/PL3.iloc[i][2])*(1-RR)*(np.exp(-math.ceil(PL3.iloc[i][2])*r)*1/5)\n",
    "            \n",
    "        if PL3.iloc[i][3]== 0:\n",
    "            DLG.iloc[i][3]=0\n",
    "        else:\n",
    "            DLG.iloc[i][3]=(PL3.iloc[i][3]/PL3.iloc[i][3])*(1-RR)*(np.exp(-math.ceil(PL3.iloc[i][3])*r)*1/5)\n",
    "            \n",
    "        if PL3.iloc[i][4]== 0:\n",
    "            DLG.iloc[i][4]=0\n",
    "        else:\n",
    "            DLG.iloc[i][4]=(PL3.iloc[i][4]/PL3.iloc[i][4])*(1-RR)*(np.exp(-math.ceil(PL3.iloc[i][4])*r)*1/5)"
   ]
  },
  {
   "cell_type": "code",
   "execution_count": 60,
   "metadata": {},
   "outputs": [],
   "source": [
    "#DLG.cumsum()"
   ]
  },
  {
   "cell_type": "code",
   "execution_count": 61,
   "metadata": {},
   "outputs": [],
   "source": [
    "#PL4.cumsum()"
   ]
  },
  {
   "cell_type": "code",
   "execution_count": 62,
   "metadata": {},
   "outputs": [],
   "source": [
    "G_nth_def=[]\n",
    "Ist_def=DLG['1'].mean()/PL4['1'].mean()\n",
    "G_nth_def.append(Ist_def)"
   ]
  },
  {
   "cell_type": "code",
   "execution_count": 63,
   "metadata": {},
   "outputs": [],
   "source": [
    "Second_def=DLG['2'].mean()/PL4['2'].mean()\n",
    "G_nth_def.append(Second_def)"
   ]
  },
  {
   "cell_type": "code",
   "execution_count": 64,
   "metadata": {},
   "outputs": [],
   "source": [
    "Third_def=DLG['3'].mean()/PL4['4'].mean()\n",
    "G_nth_def.append(Third_def)"
   ]
  },
  {
   "cell_type": "code",
   "execution_count": 65,
   "metadata": {},
   "outputs": [],
   "source": [
    "Fourth_def=DLG['4'].mean()/PL4['4'].mean()\n",
    "G_nth_def.append(Fourth_def)"
   ]
  },
  {
   "cell_type": "code",
   "execution_count": 66,
   "metadata": {},
   "outputs": [],
   "source": [
    "Fifth_def=DLG['5'].mean()/PL4['5'].mean()\n",
    "G_nth_def.append(Fifth_def)"
   ]
  },
  {
   "cell_type": "code",
   "execution_count": 67,
   "metadata": {},
   "outputs": [
    {
     "data": {
      "text/plain": [
       "list"
      ]
     },
     "execution_count": 67,
     "metadata": {},
     "output_type": "execute_result"
    }
   ],
   "source": [
    "type(G_nth_def)"
   ]
  },
  {
   "cell_type": "code",
   "execution_count": 68,
   "metadata": {},
   "outputs": [],
   "source": [
    "#SAMPLING FROM T-COPULA"
   ]
  },
  {
   "cell_type": "code",
   "execution_count": 69,
   "metadata": {},
   "outputs": [],
   "source": [
    "#T_Copula_Premium leg computation\n",
    "T_PL4=pys.prem_leg(T_PL3,r,DfT)"
   ]
  },
  {
   "cell_type": "code",
   "execution_count": 70,
   "metadata": {},
   "outputs": [],
   "source": [
    "#Default leg (DLG) compuation\n",
    "T_DLG = T_PL3.copy(deep=True)\n",
    "#RR=0.4\n",
    "for i in range(len(T_PL3)):\n",
    "    #for j in range(5):\n",
    "            \n",
    "        if T_PL3.iloc[i][0]== 0:\n",
    "            T_DLG.iloc[i][0]=0\n",
    "        else:\n",
    "            T_DLG.iloc[i][0]=(T_PL3.iloc[i][0]/T_PL3.iloc[i][0])*(1-RR)*(np.exp(-math.ceil(T_PL3.iloc[i][0])*r)*1/5)\n",
    "            \n",
    "        if T_PL3.iloc[i][1]== 0:\n",
    "            T_DLG.iloc[i][1]=0\n",
    "        else:\n",
    "            T_DLG.iloc[i][1]=(T_PL3.iloc[i][1]/T_PL3.iloc[i][1])*(1-RR)*(np.exp(-math.ceil(T_PL3.iloc[i][1])*r)*1/5)\n",
    "            \n",
    "        if T_PL3.iloc[i][2]== 0:\n",
    "            T_DLG.iloc[i][2]=0\n",
    "        else:\n",
    "            T_DLG.iloc[i][2]=(T_PL3.iloc[i][2]/T_PL3.iloc[i][2])*(1-RR)*(np.exp(-math.ceil(T_PL3.iloc[i][2])*r)*1/5)\n",
    "            \n",
    "        if T_PL3.iloc[i][3]== 0:\n",
    "            T_DLG.iloc[i][3]=0\n",
    "        else:\n",
    "            T_DLG.iloc[i][3]=(T_PL3.iloc[i][3]/T_PL3.iloc[i][3])*(1-RR)*(np.exp(-math.ceil(T_PL3.iloc[i][3])*r)*1/5)\n",
    "            \n",
    "        if T_PL3.iloc[i][4]== 0:\n",
    "            T_DLG.iloc[i][4]=0\n",
    "        else:\n",
    "            T_DLG.iloc[i][4]=(T_PL3.iloc[i][4]/T_PL3.iloc[i][4])*(1-RR)*(np.exp(-math.ceil(T_PL3.iloc[i][4])*r)*1/5)"
   ]
  },
  {
   "cell_type": "code",
   "execution_count": 71,
   "metadata": {},
   "outputs": [],
   "source": [
    "T_nth_def=[]\n",
    "T_Ist_def=T_DLG['1'].mean()/T_PL4['1'].mean()\n",
    "T_nth_def.append(T_Ist_def)"
   ]
  },
  {
   "cell_type": "code",
   "execution_count": 72,
   "metadata": {},
   "outputs": [],
   "source": [
    "T_Second_def=T_DLG['2'].mean()/T_PL4['2'].mean()\n",
    "T_nth_def.append(T_Second_def)"
   ]
  },
  {
   "cell_type": "code",
   "execution_count": 73,
   "metadata": {},
   "outputs": [],
   "source": [
    "T_Third_def=T_DLG['3'].mean()/T_PL4['4'].mean()\n",
    "T_nth_def.append(T_Third_def)"
   ]
  },
  {
   "cell_type": "code",
   "execution_count": 74,
   "metadata": {},
   "outputs": [],
   "source": [
    "T_Fourth_def=T_DLG['4'].mean()/T_PL4['4'].mean()\n",
    "T_nth_def.append(T_Fourth_def)"
   ]
  },
  {
   "cell_type": "code",
   "execution_count": 75,
   "metadata": {},
   "outputs": [],
   "source": [
    "T_Fifth_def=T_DLG['5'].mean()/T_PL4['5'].mean()\n",
    "T_nth_def.append(T_Fifth_def)"
   ]
  },
  {
   "cell_type": "code",
   "execution_count": 76,
   "metadata": {},
   "outputs": [],
   "source": [
    "#nth_def = {'G_nth_def': T_nth_def, 'T_nth_def': T_nth_def}"
   ]
  },
  {
   "cell_type": "code",
   "execution_count": 77,
   "metadata": {},
   "outputs": [],
   "source": [
    "nth_def = pd.DataFrame({'G_nth_def': G_nth_def, 'T_nth_def': T_nth_def})"
   ]
  },
  {
   "cell_type": "code",
   "execution_count": 78,
   "metadata": {},
   "outputs": [
    {
     "data": {
      "text/html": [
       "<div>\n",
       "<style scoped>\n",
       "    .dataframe tbody tr th:only-of-type {\n",
       "        vertical-align: middle;\n",
       "    }\n",
       "\n",
       "    .dataframe tbody tr th {\n",
       "        vertical-align: top;\n",
       "    }\n",
       "\n",
       "    .dataframe thead th {\n",
       "        text-align: right;\n",
       "    }\n",
       "</style>\n",
       "<table border=\"1\" class=\"dataframe\">\n",
       "  <thead>\n",
       "    <tr style=\"text-align: right;\">\n",
       "      <th></th>\n",
       "      <th>G_nth_def</th>\n",
       "      <th>T_nth_def</th>\n",
       "    </tr>\n",
       "  </thead>\n",
       "  <tbody>\n",
       "    <tr>\n",
       "      <th>1</th>\n",
       "      <td>0.005543</td>\n",
       "      <td>0.005387</td>\n",
       "    </tr>\n",
       "    <tr>\n",
       "      <th>2</th>\n",
       "      <td>0.002356</td>\n",
       "      <td>0.002368</td>\n",
       "    </tr>\n",
       "    <tr>\n",
       "      <th>3</th>\n",
       "      <td>0.001042</td>\n",
       "      <td>0.001074</td>\n",
       "    </tr>\n",
       "    <tr>\n",
       "      <th>4</th>\n",
       "      <td>0.000394</td>\n",
       "      <td>0.000420</td>\n",
       "    </tr>\n",
       "    <tr>\n",
       "      <th>5</th>\n",
       "      <td>0.000141</td>\n",
       "      <td>0.000153</td>\n",
       "    </tr>\n",
       "  </tbody>\n",
       "</table>\n",
       "</div>"
      ],
      "text/plain": [
       "   G_nth_def  T_nth_def\n",
       "1   0.005543   0.005387\n",
       "2   0.002356   0.002368\n",
       "3   0.001042   0.001074\n",
       "4   0.000394   0.000420\n",
       "5   0.000141   0.000153"
      ]
     },
     "execution_count": 78,
     "metadata": {},
     "output_type": "execute_result"
    }
   ],
   "source": [
    "nth_def.index = range(1,6)\n",
    "nth_def"
   ]
  },
  {
   "cell_type": "code",
   "execution_count": 79,
   "metadata": {},
   "outputs": [],
   "source": [
    "#cumulative premium leg and default leg. #\"cumulative\" spread computation #Gaussian Copula\n",
    "DLG_cumsum=DLG.cumsum()\n",
    "PL4_cumsum=PL4.cumsum()\n",
    "G_spread_avg_1=DLG_cumsum['1']/PL4_cumsum['1']\n",
    "G_spread_avg_2=DLG_cumsum['2']/PL4_cumsum['2']\n",
    "G_spread_avg_3=DLG_cumsum['3']/PL4_cumsum['3']\n",
    "G_spread_avg_4=DLG_cumsum['4']/PL4_cumsum['4']\n",
    "G_spread_avg_5=DLG_cumsum['5']/PL4_cumsum['5']"
   ]
  },
  {
   "cell_type": "code",
   "execution_count": 80,
   "metadata": {
    "scrolled": false
   },
   "outputs": [
    {
     "data": {
      "image/png": "[encoded data removed]",
      "text/plain": [
       "<Figure size 864x720 with 4 Axes>"
      ]
     },
     "metadata": {
      "needs_background": "light"
     },
     "output_type": "display_data"
    }
   ],
   "source": [
    "#Gaussian Copula\n",
    "X= G_spread_avg_1.expanding(min_periods=1).std()[:50000]\n",
    "Y= G_spread_avg_2.expanding(min_periods=1).std()[:50000]\n",
    "W= G_spread_avg_3.expanding(min_periods=1).std()[:50000]\n",
    "Z= G_spread_avg_4.expanding(min_periods=1).std()[:50000]\n",
    "S= G_spread_avg_5.expanding(min_periods=1).std()[:50000]\n",
    "\n",
    "#Figure 1. Top left\n",
    "fig=plt.figure(figsize=(12,10))\n",
    "sub1=fig.add_subplot(221)\n",
    "plt.axis([0,len(X),0,0.002])\n",
    "X.plot(ax=sub1,color='g',label='Ist $running$ std')\n",
    "sub1.axhline(y=np.std(G_spread_avg_1),color='b',label='Ist $full$ std')\n",
    "plt.title(\" Ist-to-default std $Gaussian$\", fontsize=18)\n",
    "plt.xlabel(\"# of simulations\", fontsize=12)\n",
    "plt.ylabel(\"std\", fontsize=12)\n",
    "sub1.legend()\n",
    "\n",
    "#Figure 2. Top right\n",
    "sub1=fig.add_subplot(222)\n",
    "plt.axis([0,len(Z),0,0.002])\n",
    "X.plot(ax=sub1,color='g',label='Ist $running$ std')\n",
    "Y.plot(ax=sub1,color='m',label='2nd $running$ std')\n",
    "W.plot(ax=sub1,color='r',label='3rd $running$ std')\n",
    "Z.plot(ax=sub1,color='k',label='4th $running$ std')\n",
    "S.plot(ax=sub1,color='c',label='5th $running$ std')\n",
    "plt.title(\"all kth-to-default std $Gaussian$\", fontsize=18)\n",
    "plt.xlabel(\"# of simulations\", fontsize=12)\n",
    "plt.ylabel(\"std\", fontsize=12)\n",
    "sub1.legend()\n",
    "\n",
    "X_mean= G_spread_avg_1.expanding(min_periods=1).mean()[:10000]\n",
    "Y_mean= G_spread_avg_2.expanding(min_periods=1).mean()[:10000]\n",
    "W_mean= G_spread_avg_3.expanding(min_periods=1).mean()[:10000]\n",
    "Z_mean= G_spread_avg_4.expanding(min_periods=1).mean()[:10000]\n",
    "S_mean= G_spread_avg_5.expanding(min_periods=1).mean()[:10000]\n",
    "\n",
    "#Figure 3. Bottom left\n",
    "sub1=fig.add_subplot(223)\n",
    "plt.axis([0,len(X_mean),0,0.01])\n",
    "X_mean.plot(ax=sub1,color='g',label='Ist $running$ mean')\n",
    "sub1.axhline(y=np.mean(G_spread_avg_1),color='b',label='Ist $full$ mean')\n",
    "plt.title(\" Ist-to-default mean $Gaussian$\", fontsize=18)\n",
    "plt.xlabel(\"# of simulations\", fontsize=12)\n",
    "plt.ylabel(\"mean\", fontsize=12)\n",
    "sub1.legend()\n",
    "\n",
    "#Figure 4. Bottom right\n",
    "sub1=fig.add_subplot(224)\n",
    "plt.axis([0,len(X_mean),0,0.01])\n",
    "X_mean.plot(ax=sub1,color='g',label='Ist $running$ mean')\n",
    "Y_mean.plot(ax=sub1,color='m',label='2nd $running$ mean')\n",
    "W_mean.plot(ax=sub1,color='r',label='3rd $running$ mean')\n",
    "Z_mean.plot(ax=sub1,color='k',label='4th $running$ mean')\n",
    "S_mean.plot(ax=sub1,color='c',label='5th $running$ mean')\n",
    "plt.title(\"all kth-to-default mean $Gaussian$\", fontsize=18)\n",
    "plt.xlabel(\"# of simulations\", fontsize=12)\n",
    "plt.ylabel(\"mean\", fontsize=12)\n",
    "sub1.legend()\n",
    "\n",
    "plt.tight_layout()\n",
    "fig=plt.gcf()"
   ]
  },
  {
   "cell_type": "code",
   "execution_count": 81,
   "metadata": {},
   "outputs": [],
   "source": [
    "#cumulative premium leg and default leg. #\"cumulative\" spread computation #T Copula\n",
    "T_DLG_cumsum=T_DLG.cumsum()\n",
    "T_PL4_cumsum=T_PL4.cumsum()\n",
    "T_spread_avg_1=T_DLG_cumsum['1']/T_PL4_cumsum['1']\n",
    "T_spread_avg_2=T_DLG_cumsum['2']/T_PL4_cumsum['2']\n",
    "T_spread_avg_3=T_DLG_cumsum['3']/T_PL4_cumsum['3']\n",
    "T_spread_avg_4=T_DLG_cumsum['4']/T_PL4_cumsum['4']\n",
    "T_spread_avg_5=T_DLG_cumsum['5']/T_PL4_cumsum['5']"
   ]
  },
  {
   "cell_type": "code",
   "execution_count": 82,
   "metadata": {},
   "outputs": [
    {
     "data": {
      "image/png": "[encoded data removed]",
      "text/plain": [
       "<Figure size 864x720 with 4 Axes>"
      ]
     },
     "metadata": {
      "needs_background": "light"
     },
     "output_type": "display_data"
    }
   ],
   "source": [
    "#T Copula\n",
    "X1= T_spread_avg_1.expanding(min_periods=1).std()[:50000]\n",
    "Y1= T_spread_avg_2.expanding(min_periods=1).std()[:50000]\n",
    "W1= T_spread_avg_3.expanding(min_periods=1).std()[:50000]\n",
    "Z1= T_spread_avg_4.expanding(min_periods=1).std()[:50000]\n",
    "S1= T_spread_avg_5.expanding(min_periods=1).std()[:50000]\n",
    "\n",
    "#Figure 1. Top left\n",
    "fig=plt.figure(figsize=(12,10))\n",
    "sub1=fig.add_subplot(221)\n",
    "plt.axis([0,len(X1),0,0.002])\n",
    "X1.plot(ax=sub1,color='g',label='Ist $running$ std')\n",
    "sub1.axhline(y=np.std(T_spread_avg_1),color='b',label='Ist $full$ std')\n",
    "plt.title(\" Ist-to-default std $t$ $copula$\", fontsize=18)\n",
    "plt.xlabel(\"# of simulations\", fontsize=12)\n",
    "plt.ylabel(\"std\", fontsize=12)\n",
    "sub1.legend()\n",
    "\n",
    "#Figure 2. Top right\n",
    "sub1=fig.add_subplot(222)\n",
    "plt.axis([0,len(Z),0,0.002])\n",
    "X1.plot(ax=sub1,color='g',label='Ist $running$ std')\n",
    "Y1.plot(ax=sub1,color='m',label='2nd $running$ std')\n",
    "W1.plot(ax=sub1,color='r',label='3rd $running$ std')\n",
    "Z1.plot(ax=sub1,color='k',label='4th $running$ std')\n",
    "S1.plot(ax=sub1,color='c',label='5th $running$ std')\n",
    "plt.title(\"all kth-to-default std $t$ $copula$\", fontsize=18)\n",
    "plt.xlabel(\"# of simulations\", fontsize=12)\n",
    "plt.ylabel(\"std\", fontsize=12)\n",
    "sub1.legend()\n",
    "\n",
    "X1_mean= T_spread_avg_1.expanding(min_periods=1).mean()[:10000]\n",
    "Y1_mean= T_spread_avg_2.expanding(min_periods=1).mean()[:10000]\n",
    "W1_mean= T_spread_avg_3.expanding(min_periods=1).mean()[:10000]\n",
    "Z1_mean= T_spread_avg_4.expanding(min_periods=1).mean()[:10000]\n",
    "S1_mean= T_spread_avg_5.expanding(min_periods=1).mean()[:10000]\n",
    "\n",
    "\n",
    "#Figure 3. Bottom left\n",
    "sub1=fig.add_subplot(223)\n",
    "plt.axis([0,len(X1_mean),0,0.01])\n",
    "X1_mean.plot(ax=sub1,color='g',label='$running$ mean')\n",
    "sub1.axhline(y=np.mean(T_spread_avg_1),color='b',label='$full$ mean')\n",
    "plt.title(\" Ist-to-default mean $t$ $copula$\", fontsize=18)\n",
    "plt.xlabel(\"# of simulations\", fontsize=12)\n",
    "plt.ylabel(\"mean\", fontsize=12)\n",
    "sub1.legend()\n",
    "\n",
    "#Figure 4. Bottom right\n",
    "sub1=fig.add_subplot(224)\n",
    "plt.axis([0,len(X1_mean),0,0.01])\n",
    "X1_mean.plot(ax=sub1,color='g',label='Ist $running$ mean')\n",
    "Y1_mean.plot(ax=sub1,color='m',label='2nd $running$ mean')\n",
    "W1_mean.plot(ax=sub1,color='r',label='3rd $running$ mean')\n",
    "Z1_mean.plot(ax=sub1,color='k',label='4th $running$ mean')\n",
    "S1_mean.plot(ax=sub1,color='c',label='5th $running$ mean')\n",
    "plt.title(\"all kth-to-default mean $t$ $copula$\", fontsize=18)\n",
    "plt.xlabel(\"# of simulations\", fontsize=12)\n",
    "plt.ylabel(\"mean\", fontsize=12)\n",
    "sub1.legend()\n",
    "\n",
    "\n",
    "plt.tight_layout()\n",
    "fig=plt.gcf()\n"
   ]
  },
  {
   "cell_type": "code",
   "execution_count": null,
   "metadata": {},
   "outputs": [],
   "source": []
  }
 ],
 "metadata": {
  "kernelspec": {
   "display_name": "Python 3",
   "language": "python",
   "name": "python3"
  },
  "language_info": {
   "codemirror_mode": {
    "name": "ipython",
    "version": 3
   },
   "file_extension": ".py",
   "mimetype": "text/x-python",
   "name": "python",
   "nbconvert_exporter": "python",
   "pygments_lexer": "ipython3",
   "version": "3.8.5"
  }
 },
 "nbformat": 4,
 "nbformat_minor": 2
}
